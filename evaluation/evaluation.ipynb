{
 "cells": [
  {
   "cell_type": "code",
   "execution_count": 1,
   "metadata": {},
   "outputs": [],
   "source": [
    "import numpy as np\n",
    "import pandas as pd\n",
    "import matplotlib.pyplot as plt"
   ]
  },
  {
   "cell_type": "code",
   "execution_count": 2,
   "metadata": {},
   "outputs": [],
   "source": [
    "indices = np.load(\"embedded/all/indices.npy\")\n",
    "titleabstracts = np.load(\"embedded/all/titleabstracts.npy\")\n",
    "fulltext = np.load(\"embedded/all/fulltext.npy\")\n",
    "fulltext_trunc = np.load(\"embedded/all/fulltext_trunc.npy\")"
   ]
  },
  {
   "cell_type": "code",
   "execution_count": 3,
   "metadata": {},
   "outputs": [],
   "source": [
    "top_level = pd.read_csv(\"top_level_classifications.csv\")\n",
    "second_level = pd.read_csv(\"second_level_classifications.csv\")\n",
    "# Convert each element in app_ref_doc_number to str\n",
    "top_level[\"app_ref_doc_number\"] = top_level[\"app_ref_doc_number\"].astype(str)\n",
    "second_level[\"app_ref_doc_number\"] = second_level[\"app_ref_doc_number\"].astype(str)"
   ]
  },
  {
   "cell_type": "code",
   "execution_count": 4,
   "metadata": {},
   "outputs": [],
   "source": [
    "def top_all_indices(patent_index, all_patent_indices, all_patent_embeddings):\n",
    "    ind = np.where(all_patent_indices == patent_index)[0]\n",
    "    patent_embedding = all_patent_embeddings[ind]\n",
    "    \n",
    "    # Normalize A and B for cosine similarity\n",
    "    patent_embedding_norm = patent_embedding / np.linalg.norm(patent_embedding)\n",
    "    all_patent_embeddings_norm = all_patent_embeddings / np.linalg.norm(all_patent_embeddings, axis=1, keepdims=True)\n",
    "\n",
    "    # Compute cosine similarity\n",
    "    similarities = np.dot(all_patent_embeddings_norm, patent_embedding_norm.T)\n",
    "\n",
    "    # Combine C and D into a 2D array\n",
    "    CD_combined = np.column_stack((similarities, all_patent_indices))\n",
    "\n",
    "    # Sort by the first column (C) in descending order\n",
    "    CD_sorted = CD_combined[np.argsort(CD_combined[:, 0])[::-1]]\n",
    "\n",
    "    # Extract the sorted D values\n",
    "    D_sorted = CD_sorted[:, 1]\n",
    "\n",
    "    # D_sorted is the desired output\n",
    "    return D_sorted"
   ]
  },
  {
   "cell_type": "code",
   "execution_count": 13,
   "metadata": {},
   "outputs": [
    {
     "name": "stdout",
     "output_type": "stream",
     "text": [
      "['17482972' '17557370' '17369347' ... '17803623' '17803631' '17803624']\n"
     ]
    }
   ],
   "source": [
    "print(top_all_indices(\"17482972\", indices, titleabstracts))"
   ]
  },
  {
   "cell_type": "code",
   "execution_count": 5,
   "metadata": {},
   "outputs": [],
   "source": [
    "def in_top_percentage(similarity, ind, percentage = 0.2):\n",
    "    return (np.where(similarity == ind)[0] <= len(similarity) * percentage)[0]"
   ]
  },
  {
   "cell_type": "code",
   "execution_count": 10,
   "metadata": {},
   "outputs": [],
   "source": [
    "def other_index_gen(each_index):\n",
    "    try:\n",
    "        top_index = np.where(top_level['app_ref_doc_number'] == each_index)[0][0]\n",
    "        index_row = top_level.iloc[top_index]\n",
    "        # Get list of column titles that have value of 1\n",
    "        columns = index_row[index_row == 1].index.tolist()\n",
    "        # Get all rows that have 1 in in the same columns\n",
    "        rows = top_level[top_level[columns].eq(1).any(axis = 1)]\n",
    "        yield from rows[\"app_ref_doc_number\"].tolist()\n",
    "    except:\n",
    "        yield None\n",
    "    "
   ]
  },
  {
   "cell_type": "code",
   "execution_count": null,
   "metadata": {},
   "outputs": [],
   "source": [
    "def accuracies(indices, embeddings):\n",
    "    accuracy = []\n",
    "    for i, each_index in enumerate(indices):\n",
    "        if i % 100 == 0:\n",
    "            print(i)\n",
    "        # top_all_indices sorts all other indices in decreasing order of similarity\n",
    "        similar = top_all_indices(each_index, indices, embeddings).tolist()\n",
    "        locations = []\n",
    "        other_indices = []\n",
    "        # Other index gen yields all other indices in the same category as each_index patent\n",
    "        for other_index_in_cat in other_index_gen(each_index):\n",
    "            if other_index_in_cat == None:\n",
    "                break\n",
    "            other_indices.append(other_index_in_cat)\n",
    "            try:\n",
    "                locations.append(similar.index(other_index_in_cat))\n",
    "            except:\n",
    "                pass\n",
    "        \n",
    "        # locations ends up being a list of rankings of other indices in \n",
    "        # the same category as each_index patent\n",
    "        # Percentage in the first half is then accuracy\n",
    "        accuracy.append(len([i for i in locations if i < 15000]) / len(locations))\n",
    "    return accuracy\n"
   ]
  },
  {
   "cell_type": "code",
   "execution_count": null,
   "metadata": {},
   "outputs": [],
   "source": [
    "title_abstract_accuracies = accuracies(indices, titleabstracts)\n",
    "print(\"Title Abstract Accuracy: \", sum(title_abstract_accuracies) / len(title_abstract_accuracies))"
   ]
  },
  {
   "cell_type": "code",
   "execution_count": null,
   "metadata": {},
   "outputs": [],
   "source": [
    "fulltext_accuracies = accuracies(indices, fulltext)\n",
    "print(\"Fulltext Accuracy: \", sum(fulltext_accuracies) / len(fulltext_accuracies))"
   ]
  },
  {
   "cell_type": "code",
   "execution_count": null,
   "metadata": {},
   "outputs": [],
   "source": [
    "fulltext_accuracies_trunc = accuracies(indices, fulltext)\n",
    "print(\"Fulltext Accuracy: \", sum(fulltext_accuracies_trunc) / len(fulltext_accuracies_trunc))"
   ]
  },
  {
   "cell_type": "code",
   "execution_count": null,
   "metadata": {},
   "outputs": [],
   "source": [
    "all_embeddings = np.hstack((titleabstracts, fulltext))\n",
    "all_embeddings_accuracies = accuracies(indices, all_embeddings)\n",
    "print(\"All Embeddings Accuracy: \", sum(all_embeddings_accuracies) / len(all_embeddings_accuracies))"
   ]
  },
  {
   "cell_type": "code",
   "execution_count": 15,
   "metadata": {},
   "outputs": [
    {
     "name": "stdout",
     "output_type": "stream",
     "text": [
      "(616840, 12)\n"
     ]
    },
    {
     "data": {
      "text/html": [
       "<div>\n",
       "<style scoped>\n",
       "    .dataframe tbody tr th:only-of-type {\n",
       "        vertical-align: middle;\n",
       "    }\n",
       "\n",
       "    .dataframe tbody tr th {\n",
       "        vertical-align: top;\n",
       "    }\n",
       "\n",
       "    .dataframe thead th {\n",
       "        text-align: right;\n",
       "    }\n",
       "</style>\n",
       "<table border=\"1\" class=\"dataframe\">\n",
       "  <thead>\n",
       "    <tr style=\"text-align: right;\">\n",
       "      <th></th>\n",
       "      <th>title</th>\n",
       "      <th>classifications</th>\n",
       "      <th>classification_versions</th>\n",
       "      <th>abstract_text</th>\n",
       "      <th>assignees_orgnames</th>\n",
       "      <th>assignees_cities</th>\n",
       "      <th>assignees_countries</th>\n",
       "      <th>inventors_last_names</th>\n",
       "      <th>inventors_first_names</th>\n",
       "      <th>inventors_cities</th>\n",
       "      <th>inventors_countries</th>\n",
       "      <th>week</th>\n",
       "    </tr>\n",
       "  </thead>\n",
       "  <tbody>\n",
       "    <tr>\n",
       "      <th>0</th>\n",
       "      <td>ODORANT COMPOUND</td>\n",
       "      <td>['C11B 9/003', 'C07C 49/647', 'C07C 2601/08']</td>\n",
       "      <td>['20130101', '20130101', '20170501']</td>\n",
       "      <td>\\nThe present invention relates to the field o...</td>\n",
       "      <td>[]</td>\n",
       "      <td>[]</td>\n",
       "      <td>[]</td>\n",
       "      <td>['CHAPUIS', 'COULOMB', 'ROBVIEUX']</td>\n",
       "      <td>['Christian', 'Julien', 'Fabrice']</td>\n",
       "      <td>['Satigny', 'Satigny', 'Satigny']</td>\n",
       "      <td>['CH', 'CH', 'CH']</td>\n",
       "      <td>ipab20230720_wk29</td>\n",
       "    </tr>\n",
       "    <tr>\n",
       "      <th>1</th>\n",
       "      <td>SYNCHRONIZATION OF RF PULSING SCHEMES AND OF S...</td>\n",
       "      <td>['H01J 37/32174', 'H01J 37/32146']</td>\n",
       "      <td>['20130101', '20130101']</td>\n",
       "      <td>\\nSystems and methods for synchronization of r...</td>\n",
       "      <td>[]</td>\n",
       "      <td>[]</td>\n",
       "      <td>[]</td>\n",
       "      <td>['Drewery', 'Wu', 'Paterson', 'Albarede']</td>\n",
       "      <td>['John Stephen', 'Ying', 'Alexander Miller', '...</td>\n",
       "      <td>['San Jose', 'Livermore', 'San Jose', 'Fremont']</td>\n",
       "      <td>['US', 'US', 'US', 'US']</td>\n",
       "      <td>ipab20230720_wk29</td>\n",
       "    </tr>\n",
       "    <tr>\n",
       "      <th>2</th>\n",
       "      <td>FUNCTION EXECUTION METHOD AND APPARATUS</td>\n",
       "      <td>['G06F 9/451']</td>\n",
       "      <td>['20180201']</td>\n",
       "      <td>\\nA function execution method and electronic d...</td>\n",
       "      <td>['VIVO MOBILE COMMUNICATION CO., LTD.']</td>\n",
       "      <td>['Dongguan']</td>\n",
       "      <td>['CN']</td>\n",
       "      <td>['HUANG']</td>\n",
       "      <td>['Li']</td>\n",
       "      <td>['Dongguan']</td>\n",
       "      <td>['CN']</td>\n",
       "      <td>ipab20230720_wk29</td>\n",
       "    </tr>\n",
       "    <tr>\n",
       "      <th>3</th>\n",
       "      <td>IMAGE FORMING APPARATUS</td>\n",
       "      <td>['G03G 15/0105', 'G03G 21/1619', 'G03G 21/1652...</td>\n",
       "      <td>['20130101', '20130101', '20130101', '20130101...</td>\n",
       "      <td>\\nAn image forming apparatus that is capable o...</td>\n",
       "      <td>[]</td>\n",
       "      <td>[]</td>\n",
       "      <td>[]</td>\n",
       "      <td>['Yoshida', 'Fukushima']</td>\n",
       "      <td>['Nobuyoshi', 'Naoki']</td>\n",
       "      <td>['Shizuoka', 'Shizuoka']</td>\n",
       "      <td>['JP', 'JP']</td>\n",
       "      <td>ipab20230720_wk29</td>\n",
       "    </tr>\n",
       "    <tr>\n",
       "      <th>4</th>\n",
       "      <td>DISPLAY DEVICE AND METHOD OF FABRICATING THE SAME</td>\n",
       "      <td>['H04R 5/02', 'H05K 5/03', 'H04R 2499/15']</td>\n",
       "      <td>['20130101', '20130101', '20130101']</td>\n",
       "      <td>\\nA display device includes a display panel wh...</td>\n",
       "      <td>[]</td>\n",
       "      <td>[]</td>\n",
       "      <td>[]</td>\n",
       "      <td>['AHN', 'YEON', 'LEE']</td>\n",
       "      <td>['Yi Joon', 'Eun Kyung', 'Jae Been']</td>\n",
       "      <td>['Seoul', 'Suwon-si', 'Seoul']</td>\n",
       "      <td>['KR', 'KR', 'KR']</td>\n",
       "      <td>ipab20230720_wk29</td>\n",
       "    </tr>\n",
       "  </tbody>\n",
       "</table>\n",
       "</div>"
      ],
      "text/plain": [
       "                                               title  \\\n",
       "0                                   ODORANT COMPOUND   \n",
       "1  SYNCHRONIZATION OF RF PULSING SCHEMES AND OF S...   \n",
       "2            FUNCTION EXECUTION METHOD AND APPARATUS   \n",
       "3                            IMAGE FORMING APPARATUS   \n",
       "4  DISPLAY DEVICE AND METHOD OF FABRICATING THE SAME   \n",
       "\n",
       "                                     classifications  \\\n",
       "0      ['C11B 9/003', 'C07C 49/647', 'C07C 2601/08']   \n",
       "1                 ['H01J 37/32174', 'H01J 37/32146']   \n",
       "2                                     ['G06F 9/451']   \n",
       "3  ['G03G 15/0105', 'G03G 21/1619', 'G03G 21/1652...   \n",
       "4         ['H04R 5/02', 'H05K 5/03', 'H04R 2499/15']   \n",
       "\n",
       "                             classification_versions  \\\n",
       "0               ['20130101', '20130101', '20170501']   \n",
       "1                           ['20130101', '20130101']   \n",
       "2                                       ['20180201']   \n",
       "3  ['20130101', '20130101', '20130101', '20130101...   \n",
       "4               ['20130101', '20130101', '20130101']   \n",
       "\n",
       "                                       abstract_text  \\\n",
       "0  \\nThe present invention relates to the field o...   \n",
       "1  \\nSystems and methods for synchronization of r...   \n",
       "2  \\nA function execution method and electronic d...   \n",
       "3  \\nAn image forming apparatus that is capable o...   \n",
       "4  \\nA display device includes a display panel wh...   \n",
       "\n",
       "                        assignees_orgnames assignees_cities  \\\n",
       "0                                       []               []   \n",
       "1                                       []               []   \n",
       "2  ['VIVO MOBILE COMMUNICATION CO., LTD.']     ['Dongguan']   \n",
       "3                                       []               []   \n",
       "4                                       []               []   \n",
       "\n",
       "  assignees_countries                       inventors_last_names  \\\n",
       "0                  []         ['CHAPUIS', 'COULOMB', 'ROBVIEUX']   \n",
       "1                  []  ['Drewery', 'Wu', 'Paterson', 'Albarede']   \n",
       "2              ['CN']                                  ['HUANG']   \n",
       "3                  []                   ['Yoshida', 'Fukushima']   \n",
       "4                  []                     ['AHN', 'YEON', 'LEE']   \n",
       "\n",
       "                               inventors_first_names  \\\n",
       "0                 ['Christian', 'Julien', 'Fabrice']   \n",
       "1  ['John Stephen', 'Ying', 'Alexander Miller', '...   \n",
       "2                                             ['Li']   \n",
       "3                             ['Nobuyoshi', 'Naoki']   \n",
       "4               ['Yi Joon', 'Eun Kyung', 'Jae Been']   \n",
       "\n",
       "                                   inventors_cities       inventors_countries  \\\n",
       "0                 ['Satigny', 'Satigny', 'Satigny']        ['CH', 'CH', 'CH']   \n",
       "1  ['San Jose', 'Livermore', 'San Jose', 'Fremont']  ['US', 'US', 'US', 'US']   \n",
       "2                                      ['Dongguan']                    ['CN']   \n",
       "3                          ['Shizuoka', 'Shizuoka']              ['JP', 'JP']   \n",
       "4                    ['Seoul', 'Suwon-si', 'Seoul']        ['KR', 'KR', 'KR']   \n",
       "\n",
       "                week  \n",
       "0  ipab20230720_wk29  \n",
       "1  ipab20230720_wk29  \n",
       "2  ipab20230720_wk29  \n",
       "3  ipab20230720_wk29  \n",
       "4  ipab20230720_wk29  "
      ]
     },
     "execution_count": 15,
     "metadata": {},
     "output_type": "execute_result"
    }
   ],
   "source": [
    "df = pd.read_csv(\"allpatents.csv\")\n",
    "print(df.shape)\n",
    "df.head()"
   ]
  },
  {
   "cell_type": "code",
   "execution_count": null,
   "metadata": {},
   "outputs": [],
   "source": []
  }
 ],
 "metadata": {
  "kernelspec": {
   "display_name": "Python 3",
   "language": "python",
   "name": "python3"
  },
  "language_info": {
   "codemirror_mode": {
    "name": "ipython",
    "version": 3
   },
   "file_extension": ".py",
   "mimetype": "text/x-python",
   "name": "python",
   "nbconvert_exporter": "python",
   "pygments_lexer": "ipython3",
   "version": "3.11.3"
  }
 },
 "nbformat": 4,
 "nbformat_minor": 2
}
