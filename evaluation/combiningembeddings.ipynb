{
 "cells": [
  {
   "cell_type": "code",
   "execution_count": 13,
   "metadata": {},
   "outputs": [],
   "source": [
    "import os\n",
    "output = [int(file.split(\".txt\")[0].strip()) for file in os.listdir(\"descriptiontexts4\") if file!= \".DS_Store\"]\n",
    "output.sort()\n",
    "output = [str(i) for i in output]\n",
    "with open(\"app_ref_doc_numbers5.txt\", \"w\") as f:\n",
    "    f.write(\"\\n\".join(output))"
   ]
  },
  {
   "cell_type": "code",
   "execution_count": 35,
   "metadata": {},
   "outputs": [
    {
     "name": "stdout",
     "output_type": "stream",
     "text": [
      "Renamed: batch_65.npy -> batch_733.npy\n",
      "Renamed: batch_71.npy -> batch_739.npy\n",
      "Renamed: batch_59.npy -> batch_727.npy\n",
      "Renamed: batch_58.npy -> batch_726.npy\n",
      "Renamed: batch_70.npy -> batch_738.npy\n",
      "Renamed: batch_64.npy -> batch_732.npy\n",
      "Renamed: batch_72.npy -> batch_740.npy\n",
      "Renamed: batch_66.npy -> batch_734.npy\n",
      "Renamed: batch_67.npy -> batch_735.npy\n",
      "Renamed: batch_73.npy -> batch_741.npy\n",
      "Renamed: batch_77.npy -> batch_745.npy\n",
      "Renamed: batch_63.npy -> batch_731.npy\n",
      "Renamed: batch_62.npy -> batch_730.npy\n",
      "Renamed: batch_76.npy -> batch_744.npy\n",
      "Renamed: batch_48.npy -> batch_716.npy\n",
      "Renamed: batch_60.npy -> batch_728.npy\n",
      "Renamed: batch_74.npy -> batch_742.npy\n",
      "Renamed: batch_75.npy -> batch_743.npy\n",
      "Renamed: batch_61.npy -> batch_729.npy\n",
      "Renamed: batch_49.npy -> batch_717.npy\n",
      "Renamed: batch_12.npy -> batch_680.npy\n",
      "Renamed: batch_13.npy -> batch_681.npy\n",
      "Renamed: batch_8.npy -> batch_676.npy\n",
      "Renamed: batch_11.npy -> batch_679.npy\n",
      "Renamed: batch_39.npy -> batch_707.npy\n",
      "Renamed: batch_38.npy -> batch_706.npy\n",
      "Renamed: batch_10.npy -> batch_678.npy\n",
      "Renamed: batch_9.npy -> batch_677.npy\n",
      "Renamed: batch_28.npy -> batch_696.npy\n",
      "Renamed: batch_14.npy -> batch_682.npy\n",
      "Renamed: batch_15.npy -> batch_683.npy\n",
      "Renamed: batch_29.npy -> batch_697.npy\n",
      "Renamed: batch_17.npy -> batch_685.npy\n",
      "Renamed: batch_16.npy -> batch_684.npy\n",
      "Renamed: batch_2.npy -> batch_670.npy\n",
      "Renamed: batch_27.npy -> batch_695.npy\n",
      "Renamed: batch_33.npy -> batch_701.npy\n",
      "Renamed: batch_32.npy -> batch_700.npy\n",
      "Renamed: batch_26.npy -> batch_694.npy\n",
      "Renamed: batch_3.npy -> batch_671.npy\n",
      "Renamed: batch_1.npy -> batch_669.npy\n",
      "Renamed: batch_30.npy -> batch_698.npy\n",
      "Renamed: batch_24.npy -> batch_692.npy\n",
      "Renamed: batch_18.npy -> batch_686.npy\n",
      "Renamed: batch_19.npy -> batch_687.npy\n",
      "Renamed: batch_25.npy -> batch_693.npy\n",
      "Renamed: batch_31.npy -> batch_699.npy\n",
      "Renamed: batch_0.npy -> batch_668.npy\n",
      "Renamed: batch_4.npy -> batch_672.npy\n",
      "Renamed: batch_35.npy -> batch_703.npy\n",
      "Renamed: batch_21.npy -> batch_689.npy\n",
      "Renamed: batch_20.npy -> batch_688.npy\n",
      "Renamed: batch_34.npy -> batch_702.npy\n",
      "Renamed: batch_5.npy -> batch_673.npy\n",
      "Renamed: batch_7.npy -> batch_675.npy\n",
      "Renamed: batch_22.npy -> batch_690.npy\n",
      "Renamed: batch_36.npy -> batch_704.npy\n",
      "Renamed: batch_37.npy -> batch_705.npy\n",
      "Renamed: batch_23.npy -> batch_691.npy\n",
      "Renamed: batch_6.npy -> batch_674.npy\n",
      "Renamed: batch_44.npy -> batch_712.npy\n",
      "Renamed: batch_50.npy -> batch_718.npy\n",
      "Renamed: batch_78.npy -> batch_746.npy\n",
      "Renamed: batch_79.npy -> batch_747.npy\n",
      "Renamed: batch_51.npy -> batch_719.npy\n",
      "Renamed: batch_45.npy -> batch_713.npy\n",
      "Renamed: batch_53.npy -> batch_721.npy\n",
      "Renamed: batch_47.npy -> batch_715.npy\n",
      "Renamed: batch_46.npy -> batch_714.npy\n",
      "Renamed: batch_52.npy -> batch_720.npy\n",
      "Renamed: batch_81.npy -> batch_749.npy\n",
      "Renamed: batch_56.npy -> batch_724.npy\n",
      "Renamed: batch_42.npy -> batch_710.npy\n",
      "Renamed: batch_43.npy -> batch_711.npy\n",
      "Renamed: batch_57.npy -> batch_725.npy\n",
      "Renamed: batch_80.npy -> batch_748.npy\n",
      "Renamed: batch_69.npy -> batch_737.npy\n",
      "Renamed: batch_41.npy -> batch_709.npy\n",
      "Renamed: batch_55.npy -> batch_723.npy\n",
      "Renamed: batch_54.npy -> batch_722.npy\n",
      "Renamed: batch_40.npy -> batch_708.npy\n",
      "Renamed: batch_68.npy -> batch_736.npy\n"
     ]
    }
   ],
   "source": [
    "import os\n",
    "\n",
    "# Path to the folder containing the text files\n",
    "folder_path = \"/Users/lawrenceliu/MIT/2024Fall/6.8611/final project/embedded/restofmitalt2/batched_titleabstracts_fulltext1\"\n",
    "\n",
    "# Iterate through the files in the folder\n",
    "for filename in os.listdir(folder_path):\n",
    "    if filename.startswith(\"batch_\") and filename.endswith(\".npy\"):\n",
    "        # Extract the numeric part of the filename\n",
    "        number = int(filename[len(\"batch_\"):-len(\".npy\")])\n",
    "        \n",
    "        # Add 673 to the number\n",
    "        new_number = number + 668\n",
    "        \n",
    "        # Construct the new filename\n",
    "        new_filename = f\"batch_{new_number}.npy\"\n",
    "        \n",
    "        # Rename the file\n",
    "        old_path = os.path.join(folder_path, filename)\n",
    "        new_path = os.path.join(folder_path, new_filename)\n",
    "        os.rename(old_path, new_path)\n",
    "        print(f\"Renamed: {filename} -> {new_filename}\")"
   ]
  },
  {
   "cell_type": "code",
   "execution_count": 39,
   "metadata": {},
   "outputs": [
    {
     "name": "stdout",
     "output_type": "stream",
     "text": [
      "(29526, 1024) (29526, 1024) (29526, 1024) (29526,)\n"
     ]
    }
   ],
   "source": [
    "import numpy as np\n",
    "# Reconstruct array of all title abstract embeddings\n",
    "accounts = [\"embedded/bookofmasters9\",\"embedded/mitalt\",\"embedded/mitalt2\",\"embedded/mitalt3\"]\n",
    "all_titleabstracts = []\n",
    "all_fulltext = []\n",
    "all_fulltext_trunc = []\n",
    "all_indices = []\n",
    "for account in accounts:\n",
    "    for a in os.listdir(os.path.join(account, \"batched_indices\")):\n",
    "        if a == \".DS_Store\":\n",
    "            continue\n",
    "        batch_ind = a.replace(\".txt\", \"\")\n",
    "        indices_path = os.path.join(account, \"batched_indices\", a)\n",
    "        titleabstract_path = os.path.join(account, \"batched_titleabstracts\", f\"{batch_ind}.npy\")\n",
    "        full_text_path = os.path.join(account, \"batched_titleabstracts_fulltext\", f\"{batch_ind}.npy\")\n",
    "        full_text_trunc_path = os.path.join(account, \"batched_titleabstracts_fulltext_trunc\", f\"{batch_ind}.npy\")\n",
    "        with open(indices_path, \"r\") as f:\n",
    "            all_indices.extend(f.read().splitlines())\n",
    "        all_titleabstracts.append(np.load(titleabstract_path))\n",
    "        all_fulltext.append(np.load(full_text_path))\n",
    "        all_fulltext_trunc.append(np.load(full_text_trunc_path))\n",
    "all_titleabstracts = np.vstack(all_titleabstracts)\n",
    "all_fulltext = np.vstack(all_fulltext)\n",
    "all_fulltext_trunc = np.vstack(all_fulltext_trunc)\n",
    "all_indices = np.array(all_indices)\n",
    "print(all_titleabstracts.shape, all_fulltext.shape, all_fulltext_trunc.shape, all_indices.shape)"
   ]
  },
  {
   "cell_type": "code",
   "execution_count": 40,
   "metadata": {},
   "outputs": [],
   "source": [
    "# Save each of the np arrays to all folder\n",
    "base_filepath = \"/Users/lawrenceliu/MIT/2024Fall/6.8611/final project/embedded/all\"\n",
    "np.save(os.path.join(base_filepath, \"titleabstracts.npy\"), all_titleabstracts)\n",
    "np.save(os.path.join(base_filepath, \"fulltext.npy\"), all_fulltext)\n",
    "np.save(os.path.join(base_filepath, \"fulltext_trunc.npy\"), all_fulltext_trunc)\n",
    "np.save(os.path.join(base_filepath, \"indices.npy\"), all_indices)"
   ]
  },
  {
   "cell_type": "code",
   "execution_count": 33,
   "metadata": {},
   "outputs": [],
   "source": [
    "all_inds = []\n",
    "for i in range(667,750):\n",
    "    filename = f\"batch_{i}.txt\"\n",
    "    with open(os.path.join(\"/Users/lawrenceliu/MIT/2024Fall/6.8611/final project/embedded/mitalt2/batched_indices\", filename), \"r\") as f:\n",
    "        all_inds.extend(f.read().split())\n",
    "with open(\"temp_indices.txt\",\"w\") as g:\n",
    "    g.write(\"\\n\".join(sorted(all_inds)))"
   ]
  },
  {
   "cell_type": "code",
   "execution_count": 21,
   "metadata": {},
   "outputs": [],
   "source": [
    "import pandas as pd\n",
    "df = pd.DataFrame(0, index=all_indices, columns=['titleabstracts', 'fulltext', 'fulltext_trunc'])"
   ]
  },
  {
   "cell_type": "code",
   "execution_count": null,
   "metadata": {},
   "outputs": [],
   "source": [
    "accounts = [\"embedded/bookofmasters9\",\"embedded/mitalt\",\"embedded/mitalt2\",\"embedded/mitalt3\"]\n",
    "for account in accounts:\n",
    "    directory_base = os.path.join(account,\"batched_titleabstracts\")\n",
    "    for batch in os.listdir(directory_base):\n",
    "        batch_filename = os.path.join(directory_base, batch)\n",
    "        batch_ind_filename = os.path.join(account, \"batched_indices\", batch.replace(\".npy\", \".txt\"))\n",
    "        with open(batch_ind_filename, \"r\") as f:\n",
    "            batch_indices = f.read().split()\n",
    "        batch_embeddings = np.load(batch_filename)\n",
    "        for ind, embedding in zip(batch_indices, batch_embeddings):\n",
    "            df.at[ind, 'titleabstracts'] = embedding\n",
    "# Count number of 0s in titleabstracts column of df\n",
    "print(df['titleabstracts'].apply(lambda x: np.all(x==0)).sum())"
   ]
  },
  {
   "cell_type": "code",
   "execution_count": null,
   "metadata": {},
   "outputs": [],
   "source": [
    "# Reconstruct array of all fulltext embeddings, non truncated\n",
    "accounts = [\"embedded/bookofmasters9\",\"embedded/mitalt\",\"embedded/mitalt2\",\"embedded/restofmitalt2\",\"embedded/mitalt3\"]\n",
    "all_fulltext = []\n",
    "for account in accounts:\n",
    "    directory_base = os.path.join(account,\"batched_titleabstracts_fulltext\")\n",
    "    for batch in os.listdir(directory_base):\n",
    "        batch_filename = os.path.join(directory_base, batch)\n",
    "        index_filename = os.path.join(account, \"batched_indices_fulltext\",batch)\n",
    "        batch_embeddings = np.load(batch_filename)\n",
    "        print(batch_embeddings.shape)\n",
    "        all_fulltext.append(batch_embeddings)\n",
    "all_fulltext = np.vstack(all_fulltext)\n",
    "print(all_fulltext.shape)"
   ]
  },
  {
   "cell_type": "code",
   "execution_count": null,
   "metadata": {},
   "outputs": [],
   "source": []
  }
 ],
 "metadata": {
  "kernelspec": {
   "display_name": "Python 3",
   "language": "python",
   "name": "python3"
  },
  "language_info": {
   "codemirror_mode": {
    "name": "ipython",
    "version": 3
   },
   "file_extension": ".py",
   "mimetype": "text/x-python",
   "name": "python",
   "nbconvert_exporter": "python",
   "pygments_lexer": "ipython3",
   "version": "3.11.3"
  }
 },
 "nbformat": 4,
 "nbformat_minor": 2
}
